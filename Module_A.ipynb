{
  "nbformat": 4,
  "nbformat_minor": 0,
  "metadata": {
    "colab": {
      "name": "Module A.ipynb",
      "provenance": [],
      "collapsed_sections": []
    },
    "kernelspec": {
      "name": "python3",
      "display_name": "Python 3"
    },
    "language_info": {
      "name": "python"
    }
  },
  "cells": [
    {
      "cell_type": "markdown",
      "source": [
        "**Module A: Homework**\\\n",
        "Kyla Golston\\\n",
        "Sections:\\\n",
        "9.1 Base-n and Binary\\\n",
        "9.2 Floating Point\\\n",
        "9.3 Round-off Error\\\n",
        "Due Date: 1/16/22"
      ],
      "metadata": {
        "id": "ppuOO_JscDjQ"
      }
    },
    {
      "cell_type": "markdown",
      "source": [
        "\n",
        "\n",
        "1. Use the np.spacing function to determine the smallest number such that the gap is 1.\n"
      ],
      "metadata": {
        "id": "jIRjIiridYAS"
      }
    },
    {
      "cell_type": "code",
      "source": [
        "import numpy as np\n",
        "np.spacing(1)"
      ],
      "metadata": {
        "colab": {
          "base_uri": "https://localhost:8080/"
        },
        "id": "uwfvLwaFiowo",
        "outputId": "cce4f193-f07c-47f1-c774-cace421bea6f"
      },
      "execution_count": null,
      "outputs": [
        {
          "output_type": "execute_result",
          "data": {
            "text/plain": [
              "2.220446049250313e-16"
            ]
          },
          "metadata": {},
          "execution_count": 7
        }
      ]
    },
    {
      "cell_type": "markdown",
      "source": [
        "\n",
        "2. What are some of the advantages and disadvantages of using binary versus decimal?\n"
      ],
      "metadata": {
        "id": "LWHwfXQniqSw"
      }
    },
    {
      "cell_type": "markdown",
      "source": [
        "\n",
        "\n",
        "Some advantages of using binary versus decimal includes how fast a computer can read the numbers 0 and 1. These digits can be translated to \"and\", \"or\", as well as \"not\". A disadvantage of using binarary as opposed to decimal is that it's not as easy to read for humans.\n",
        "\n",
        "\n"
      ],
      "metadata": {
        "id": "SETBHpnLjWii"
      }
    },
    {
      "cell_type": "markdown",
      "source": [
        "3. Convert binary to decimal and vice versa.\n"
      ],
      "metadata": {
        "id": "o-bZD2IrislQ"
      }
    },
    {
      "cell_type": "code",
      "source": [
        "#Binary to Decimal conversion\n",
        "#Binary digits are only 0 and 1\n",
        "\n",
        "#the int fuction converts a string of number to integer\n",
        "def binaryToDecimal(n):\n",
        "\treturn int(n,2)\n",
        "\n",
        "if __name__ == '__main__':\n",
        "\tprint(\"Ans=\", binaryToDecimal('1100101'))"
      ],
      "metadata": {
        "colab": {
          "base_uri": "https://localhost:8080/"
        },
        "id": "pvfppLztyiqy",
        "outputId": "29010847-95ec-4643-ec1f-356ea1f080ce"
      },
      "execution_count": null,
      "outputs": [
        {
          "output_type": "stream",
          "name": "stdout",
          "text": [
            "Ans= 101\n"
          ]
        }
      ]
    },
    {
      "cell_type": "code",
      "source": [
        "#Decimal to Binary conversion\n",
        "\n",
        "#bin function turns an integer into a string of numbers\n",
        "def DecimalToBinary(n):\n",
        "\treturn bin(n).replace(\"0b\",\"\")\n",
        "\n",
        "\n",
        "if __name__ == '__main__':\n",
        "\tprint(\"Ans=\" + DecimalToBinary(17))\n"
      ],
      "metadata": {
        "colab": {
          "base_uri": "https://localhost:8080/"
        },
        "id": "N9Xm7y1X1Sn1",
        "outputId": "f71a95b3-6a6c-4735-cb6b-a7e6e0e59836"
      },
      "execution_count": null,
      "outputs": [
        {
          "output_type": "stream",
          "name": "stdout",
          "text": [
            "Ans=10001\n"
          ]
        }
      ]
    },
    {
      "cell_type": "markdown",
      "source": [
        "\n",
        "4. How high can you count on your fingers if you count in binary?\n"
      ],
      "metadata": {
        "id": "7rpBNGPti1QI"
      }
    },
    {
      "cell_type": "markdown",
      "source": [
        "If we utilize both hands we can represent each finger as a bit. In total we have 10 bits. Zero is reresented by a finer down and one is represented by an upright finger. We are able to count from 0 to 1023."
      ],
      "metadata": {
        "id": "vQjWBvx9qgsJ"
      }
    },
    {
      "cell_type": "markdown",
      "source": [
        "5. Multiply and add binary numbers."
      ],
      "metadata": {
        "id": "X2GqW-w9i3Ox"
      }
    },
    {
      "cell_type": "code",
      "source": [
        "#Define each number\n",
        "number1 = 110\n",
        "number2 = 10\n",
        "\n",
        "#convert value to string\n",
        "number1 = str(number1)\n",
        "number2 = str(number2)\n",
        "\n",
        "#int(#,base)\n",
        "product=int(number1, 2) * int(number2, 2)\n",
        "binarymultiplication = bin(product)\n",
        "\n",
        "#Answer returns a binary number\n",
        "print(\"Ans = \" + binarymultiplication)\n",
        "\n"
      ],
      "metadata": {
        "id": "16rIv8HTi4JY",
        "colab": {
          "base_uri": "https://localhost:8080/"
        },
        "outputId": "62b6174e-7d31-40ad-a391-f8beea4f9b2b"
      },
      "execution_count": null,
      "outputs": [
        {
          "output_type": "stream",
          "name": "stdout",
          "text": [
            "Ans = 0b1100\n"
          ]
        }
      ]
    },
    {
      "cell_type": "code",
      "source": [
        "#Define each number\n",
        "number1 = 100101\n",
        "number2 = 10001\n",
        "\n",
        "#convert value to string\n",
        "number1 = str(number1)\n",
        "number2 = str(number2)\n",
        "\n",
        "#int(#,base)\n",
        "addition=int(number1, 2) + int(number2, 2)\n",
        "binaryaddition = bin(addition)\n",
        "\n",
        "print(\"Ans = \" + binaryaddition)"
      ],
      "metadata": {
        "colab": {
          "base_uri": "https://localhost:8080/"
        },
        "id": "RGqIdtZx83W_",
        "outputId": "bc9ad637-a5d7-4abf-d8ab-1991e49df85b"
      },
      "execution_count": null,
      "outputs": [
        {
          "output_type": "stream",
          "name": "stdout",
          "text": [
            "Ans = 0b110110\n"
          ]
        }
      ]
    },
    {
      "cell_type": "code",
      "source": [
        "1.2-1.0"
      ],
      "metadata": {
        "colab": {
          "base_uri": "https://localhost:8080/"
        },
        "id": "UmOM9O-dppn1",
        "outputId": "c67c5788-bb31-434c-fdbd-ac0f1cae66d3"
      },
      "execution_count": null,
      "outputs": [
        {
          "output_type": "execute_result",
          "data": {
            "text/plain": [
              "0.19999999999999996"
            ]
          },
          "metadata": {},
          "execution_count": 9
        }
      ]
    },
    {
      "cell_type": "markdown",
      "source": [
        "7. Round-off error by floating-point arithmetic: Int the example below python returns a false result to the equated difference. This is because a floating point cannot be represented by an exact number. If the \"round\" function is utilize then we are able to do the  computation and receive a post rounded answer."
      ],
      "metadata": {
        "id": "Ki44N5GBBxkV"
      }
    },
    {
      "cell_type": "code",
      "source": [
        "6.9 - 6.889 == 0.011"
      ],
      "metadata": {
        "colab": {
          "base_uri": "https://localhost:8080/"
        },
        "id": "V7A6hgXIB1cx",
        "outputId": "b1b6ead1-9031-43fb-9b8a-1c661a2aef5f"
      },
      "execution_count": null,
      "outputs": [
        {
          "output_type": "execute_result",
          "data": {
            "text/plain": [
              "False"
            ]
          },
          "metadata": {},
          "execution_count": 48
        }
      ]
    },
    {
      "cell_type": "code",
      "source": [
        "6.9 - 6.889"
      ],
      "metadata": {
        "colab": {
          "base_uri": "https://localhost:8080/"
        },
        "id": "KIppeLtQB_4W",
        "outputId": "6318b835-b41c-4473-a094-cf62947063ad"
      },
      "execution_count": null,
      "outputs": [
        {
          "output_type": "execute_result",
          "data": {
            "text/plain": [
              "0.01100000000000012"
            ]
          },
          "metadata": {},
          "execution_count": 49
        }
      ]
    },
    {
      "cell_type": "code",
      "source": [
        "round(0.5 + 0.8 + 0.1, 9)  == round(1.4, 9)"
      ],
      "metadata": {
        "colab": {
          "base_uri": "https://localhost:8080/"
        },
        "id": "5yPGvyWEZtxN",
        "outputId": "7edcd921-f2a3-4ebb-eef6-c02439c25a3d"
      },
      "execution_count": null,
      "outputs": [
        {
          "output_type": "execute_result",
          "data": {
            "text/plain": [
              "True"
            ]
          },
          "metadata": {},
          "execution_count": 3
        }
      ]
    }
  ]
}