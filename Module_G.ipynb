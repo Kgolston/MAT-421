{
  "nbformat": 4,
  "nbformat_minor": 0,
  "metadata": {
    "colab": {
      "name": "Module G.ipynb",
      "provenance": []
    },
    "kernelspec": {
      "name": "python3",
      "display_name": "Python 3"
    },
    "language_info": {
      "name": "python"
    }
  },
  "cells": [
    {
      "cell_type": "markdown",
      "source": [
        "Kyla Golston\\\n",
        " Module G: Numerical Intergration\\\n",
        " Sections 21.1-21.3\\\n",
        " Due Date: 3/20/22"
      ],
      "metadata": {
        "id": "TzAp6_516WaH"
      }
    },
    {
      "cell_type": "markdown",
      "source": [
        "21.1 Numerical Integration Problem Statement\\\n",
        "Given a function, we want to approximate the integral of f(x) over the total interval, [a,b].  For the following sections I used the cosine example found from #https://math.berkeley.edu/~ribet/10A/oct5.pdf on page 14"
      ],
      "metadata": {
        "id": "l45__jxUOOF7"
      }
    },
    {
      "cell_type": "code",
      "source": [
        "\n",
        "#21.2 Riemann’s Integral\n",
        "#Use the left Riemann Integral, right Riemann Integral, and \n",
        "#Midpoint Rule to approximate ∫π0sin(x)dx wtih 11 evenly spaced grid ponts over\n",
        "#the whole interval. Compare this value to the exact value of 2.\n",
        "\n",
        "#https://math.berkeley.edu/~ribet/10A/oct5.pdf\n",
        "#Page 14\n",
        "\n",
        "import numpy as np\n",
        "\n",
        "a = -1\n",
        "b = 1\n",
        "n = 11\n",
        "h = (b - a) / (n - 1)\n",
        "x = np.linspace(a, b, n)\n",
        "f = np.cos(x)\n",
        "\n",
        "I_riemannL = h * sum(f[:n-1])\n",
        "err_riemannL = 2 - I_riemannL\n",
        "\n",
        "I_riemannR = h * sum(f[1::])\n",
        "err_riemannR = 2 - I_riemannR\n",
        "\n",
        "I_mid = h * sum(np.cos((x[:n-1] \\\n",
        "        + x[1:])/2))\n",
        "err_mid = 2 - I_mid\n",
        "\n",
        "print(I_riemannL)\n",
        "print(err_riemannL)\n",
        "\n",
        "print(I_riemannR)\n",
        "print(err_riemannR)\n",
        "\n",
        "print(I_mid)\n",
        "print(err_mid)"
      ],
      "metadata": {
        "colab": {
          "base_uri": "https://localhost:8080/"
        },
        "id": "zfu1Vslp7DyV",
        "outputId": "73d7348b-bd2b-4a89-a221-c15febe5d6ab"
      },
      "execution_count": 4,
      "outputs": [
        {
          "output_type": "stream",
          "name": "stdout",
          "text": [
            "1.6773284196140161\n",
            "0.32267158038598387\n",
            "1.6773284196140161\n",
            "0.32267158038598387\n",
            "1.685750148739663\n",
            "0.3142498512603371\n"
          ]
        }
      ]
    },
    {
      "cell_type": "code",
      "source": [
        "#21.3 Trapezoid Rule\n",
        "#Use the Trapezoid Rule to approximate ∫π0sin(x)dx with 11 evenly spaced \n",
        "#grid points over the whole interval. Compare this value to the exact value of 2.\n",
        "\n",
        "#https://math.berkeley.edu/~ribet/10A/oct5.pdf\n",
        "#Page 14\n",
        "\n",
        "import numpy as np\n",
        "\n",
        "a = -1\n",
        "b = 1\n",
        "n = 11\n",
        "h = (b - a) / (n - 1)\n",
        "x = np.linspace(a, b, n)\n",
        "f = np.cos(x)\n",
        "\n",
        "I_trap = (h/2)*(f[0] + \\\n",
        "          2 * sum(f[1:n-1]) + f[n-1])\n",
        "err_trap = 2 - I_trap\n",
        "\n",
        "print(I_trap)\n",
        "print(err_trap)"
      ],
      "metadata": {
        "colab": {
          "base_uri": "https://localhost:8080/"
        },
        "id": "W9ZfW3m07D12",
        "outputId": "2f8a1883-c42a-403f-c830-bab5ea7350d7"
      },
      "execution_count": 3,
      "outputs": [
        {
          "output_type": "stream",
          "name": "stdout",
          "text": [
            "1.6773284196140161\n",
            "0.32267158038598387\n"
          ]
        }
      ]
    }
  ]
}