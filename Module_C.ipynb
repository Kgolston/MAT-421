{
  "nbformat": 4,
  "nbformat_minor": 0,
  "metadata": {
    "colab": {
      "name": "Module C.ipynb",
      "provenance": []
    },
    "kernelspec": {
      "name": "python3",
      "display_name": "Python 3"
    },
    "language_info": {
      "name": "python"
    }
  },
  "cells": [
    {
      "cell_type": "markdown",
      "source": [
        "Kyla Golston\\\n",
        "Module C: Root Finding\\\n",
        "Sections 19.1-19.5\\\n",
        "Due Date: 2/6/22\n",
        "\n"
      ],
      "metadata": {
        "id": "83l-nm0GPaxZ"
      }
    },
    {
      "cell_type": "markdown",
      "source": [
        "19.3 Bisection Method"
      ],
      "metadata": {
        "id": "ycLwYUYbcTJk"
      }
    },
    {
      "cell_type": "code",
      "source": [
        "\n",
        "import numpy as np\n",
        "\n",
        "def my_bisection(f, a, b, tol): \n",
        "    # approximates a root, R, of f bounded \n",
        "    # by a and b to within tolerance \n",
        "    # | f(m) | < tol with m the midpoint \n",
        "    # between a and b Recursive implementation\n",
        "    \n",
        "    # check if a and b bound a root\n",
        "    if np.sign(f(a)) == np.sign(f(b)):\n",
        "        raise Exception(\n",
        "         \"The scalars a and b do not bound a root\")\n",
        "        \n",
        "    # get midpoint\n",
        "    m = (a + b)/2\n",
        "    \n",
        "    if np.abs(f(m)) < tol:\n",
        "        # stopping condition, report m as root\n",
        "        return m\n",
        "    elif np.sign(f(a)) == np.sign(f(m)):\n",
        "        # case where m is an improvement on a. \n",
        "        # Make recursive call with a = m\n",
        "        return my_bisection(f, m, b, tol)\n",
        "    elif np.sign(f(b)) == np.sign(f(m)):\n",
        "        # case where m is an improvement on b. \n",
        "        # Make recursive call with b = m\n",
        "        return my_bisection(f, a, m, tol)\n",
        "\n",
        "#\n",
        "f = lambda x: x**2 - 25\n",
        "\n",
        "r1 = my_bisection(f, 0, 10, 0.1)\n",
        "print(\"r1 =\", r1)\n",
        "r01 = my_bisection(f, 0, 10, 0.01)\n",
        "print(\"r01 =\", r01)\n",
        "\n",
        "print(\"f(r1) =\", f(r1))\n",
        "print(\"f(r01) =\", f(r01))"
      ],
      "metadata": {
        "colab": {
          "base_uri": "https://localhost:8080/"
        },
        "id": "wX2QQzvESnkA",
        "outputId": "22d57fcf-9c02-4276-cd63-b15c9f1118c2"
      },
      "execution_count": 25,
      "outputs": [
        {
          "output_type": "stream",
          "name": "stdout",
          "text": [
            "r1 = 5.0\n",
            "r01 = 5.0\n",
            "f(r1) = 0.0\n",
            "f(r01) = 0.0\n"
          ]
        }
      ]
    },
    {
      "cell_type": "markdown",
      "source": [
        "19.4 Newton-Raphson Method"
      ],
      "metadata": {
        "id": "I3BpAiCycQC2"
      }
    },
    {
      "cell_type": "code",
      "source": [
        "import numpy as np\n",
        "\n",
        "f = lambda x: x**2 -5\n",
        "f_prime = lambda x: 2*x\n",
        "newton_raphson = 2.2 - (f(2.2))/(f_prime(2.2))\n",
        "\n",
        "print(\"newton_raphson =\", newton_raphson)\n",
        "print(\"sqrt(2) =\", np.sqrt(5))"
      ],
      "metadata": {
        "colab": {
          "base_uri": "https://localhost:8080/"
        },
        "id": "JZ_a0dPJYtYr",
        "outputId": "82f79cb5-6323-4ef8-d5b5-f82aaa75bbeb"
      },
      "execution_count": 22,
      "outputs": [
        {
          "output_type": "stream",
          "name": "stdout",
          "text": [
            "newton_raphson = 2.2363636363636363\n",
            "sqrt(2) = 2.23606797749979\n"
          ]
        }
      ]
    },
    {
      "cell_type": "code",
      "source": [
        "def my_newton(f, df, x0, tol):\n",
        "    # output is an estimation of the root of f \n",
        "    # using the Newton Raphson method\n",
        "    # recursive implementation\n",
        "    if abs(f(x0)) < tol:\n",
        "        return x0\n",
        "    else:\n",
        "        return my_newton(f, df, x0 - f(x0)/df(x0), tol)\n",
        "  \n",
        "estimate = my_newton(f, f_prime, 1.5, 1e-6)\n",
        "print(\"estimate =\", estimate)\n",
        "print(\"sqrt(2) =\", np.sqrt(5))"
      ],
      "metadata": {
        "colab": {
          "base_uri": "https://localhost:8080/"
        },
        "id": "5wSTYA0rZ9Rc",
        "outputId": "61197088-2155-4a39-da00-6d126b352aa7"
      },
      "execution_count": 23,
      "outputs": [
        {
          "output_type": "stream",
          "name": "stdout",
          "text": [
            "estimate = 2.236067977522834\n",
            "sqrt(2) = 2.23606797749979\n"
          ]
        }
      ]
    },
    {
      "cell_type": "markdown",
      "source": [
        "19.5 Root Finding in Python"
      ],
      "metadata": {
        "id": "QdBEewWxc_Ee"
      }
    },
    {
      "cell_type": "code",
      "source": [
        "#The function fsolve allows us to fond the roots of a given function\n",
        "from scipy.optimize import fsolve\n",
        "f = lambda x: x**2-25\n",
        "\n",
        "fsolve(f, [1, 80])\n"
      ],
      "metadata": {
        "colab": {
          "base_uri": "https://localhost:8080/"
        },
        "id": "zRXhqWcpdKFJ",
        "outputId": "5fcd03d0-eefa-4d5a-93c9-9ddbe95884a3"
      },
      "execution_count": 16,
      "outputs": [
        {
          "output_type": "execute_result",
          "data": {
            "text/plain": [
              "array([5., 5.])"
            ]
          },
          "metadata": {},
          "execution_count": 16
        }
      ]
    },
    {
      "cell_type": "markdown",
      "source": [
        "Problem 3.)\\\n",
        "Why does the bisection method fail for f(x)=1/x with error given by |b−a|? Hint: How does f(x) violate the intermediate value theorem?\\\n",
        "**Answer**: The function violates the theorm as it is not defined at zero and also isn't continuous."
      ],
      "metadata": {
        "id": "u0SUyvllpkit"
      }
    },
    {
      "cell_type": "code",
      "source": [
        "import matplotlib.pyplot as plt\n",
        "import numpy as np\n",
        "\n",
        "# 100 linearly spaced numbers\n",
        "x = np.linspace(-1, 1,100)\n",
        "\n",
        "#the function, which is y = 1/x here\n",
        "y = 1/x\n",
        "\n",
        "# setting the axes at the centre\n",
        "fig = plt.figure()\n",
        "ax = fig.add_subplot(1, 1, 1)\n",
        "ax.spines['left'].set_position('center')\n",
        "ax.spines['bottom'].set_position('center')\n",
        "plt.title('F(x)=1/x)')\n",
        "plt.xlabel('x values')\n",
        "plt.ylabel('y values')\n",
        "\n",
        "# plot the function\n",
        "plt.plot(x,y, 'r')\n",
        "\n",
        "# show the plot\n",
        "plt.show()"
      ],
      "metadata": {
        "colab": {
          "base_uri": "https://localhost:8080/",
          "height": 264
        },
        "id": "a1jh-_ePs8EU",
        "outputId": "6fe5d09a-6746-4b2c-f201-9cc8973076f4"
      },
      "execution_count": 48,
      "outputs": [
        {
          "output_type": "display_data",
          "data": {
            "image/png": "[encoded data removed]",
            "text/plain": [
              "<Figure size 432x288 with 1 Axes>"
            ]
          },
          "metadata": {
            "needs_background": "light"
          }
        }
      ]
    }
  ]
}