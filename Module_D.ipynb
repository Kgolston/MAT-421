{
  "nbformat": 4,
  "nbformat_minor": 0,
  "metadata": {
    "colab": {
      "name": "Module D.ipynb",
      "provenance": []
    },
    "kernelspec": {
      "name": "python3",
      "display_name": "Python 3"
    },
    "language_info": {
      "name": "python"
    }
  },
  "cells": [
    {
      "cell_type": "markdown",
      "source": [
        "Kyla Golston\\\n",
        "Module C: Root Finding\\\n",
        "Sections 1.1-1.4\\\n",
        "Due Date: 2/6/22"
      ],
      "metadata": {
        "id": "vwXnpdMiooMb"
      }
    },
    {
      "cell_type": "markdown",
      "source": [
        "Section 1.1 & 1.2"
      ],
      "metadata": {
        "id": "__ocICbltPL8"
      }
    },
    {
      "cell_type": "code",
      "source": [
        "#Norm of a Matrix\n",
        "import numpy as np\n",
        " \n",
        "# initialize matrix\n",
        "mat = np.array([[ 10, 20, 30],\n",
        "               [4, 5, 6]])\n",
        " \n",
        "# compute norm of matrix\n",
        "mat_norm = np.linalg.norm(mat)\n",
        " \n",
        "print(\"Matrix norm:\")\n",
        "print(mat_norm)"
      ],
      "metadata": {
        "colab": {
          "base_uri": "https://localhost:8080/"
        },
        "id": "lSCtd2hho1YE",
        "outputId": "d88f7d40-9227-4690-dfdd-eb5983be3f4f"
      },
      "execution_count": 57,
      "outputs": [
        {
          "output_type": "stream",
          "name": "stdout",
          "text": [
            "Matrix norm:\n",
            "38.43175770115127\n"
          ]
        }
      ]
    },
    {
      "cell_type": "code",
      "source": [
        "#Inner Product\n",
        "a = np.array([5,0,3])\n",
        "b = np.array([0,1,4])\n",
        "np.inner(a, b)"
      ],
      "metadata": {
        "colab": {
          "base_uri": "https://localhost:8080/"
        },
        "id": "XPXXmmqe9ccu",
        "outputId": "14fee0f5-423b-4f06-c6e0-b261d44253bc"
      },
      "execution_count": 45,
      "outputs": [
        {
          "output_type": "execute_result",
          "data": {
            "text/plain": [
              "12"
            ]
          },
          "metadata": {},
          "execution_count": 45
        }
      ]
    },
    {
      "cell_type": "code",
      "source": [
        "#Dot Product of 2 Vectors\n",
        "import numpy as np\n",
        " \n",
        "# Taking two 2D array\n",
        "a = [[5, 6], [8, 9]]\n",
        "b = [[1, 3], [1, 2]]\n",
        " \n",
        "# Calculating dot product using dot()\n",
        "print(np.dot(a, b))"
      ],
      "metadata": {
        "colab": {
          "base_uri": "https://localhost:8080/"
        },
        "id": "qlEeUk1B9phI",
        "outputId": "a7e09965-1e9b-44f7-9da3-61d964ebefa4"
      },
      "execution_count": 41,
      "outputs": [
        {
          "output_type": "stream",
          "name": "stdout",
          "text": [
            "[[11 27]\n",
            " [17 42]]\n"
          ]
        }
      ]
    },
    {
      "cell_type": "code",
      "source": [
        "#Cross Product\n",
        "x = [0, 1, 2]\n",
        "y = [5, 7, 7]\n",
        "np.cross(x, y)"
      ],
      "metadata": {
        "colab": {
          "base_uri": "https://localhost:8080/"
        },
        "id": "uWZojoj1_9J1",
        "outputId": "59d3e862-b6d1-439f-f13e-2344fa08556a"
      },
      "execution_count": 42,
      "outputs": [
        {
          "output_type": "execute_result",
          "data": {
            "text/plain": [
              "array([-7, 10, -5])"
            ]
          },
          "metadata": {},
          "execution_count": 42
        }
      ]
    },
    {
      "cell_type": "code",
      "source": [
        "#Eignvalues/vectors\n",
        "import numpy as np\n",
        "from numpy.linalg import eig\n",
        "a = np.array([[10, 5], \n",
        "              [5, 10]])\n",
        "w,v=eig(a)\n",
        "print('Eigenvalue(s):', w)\n",
        "print('Eigenvector(s)', v)"
      ],
      "metadata": {
        "colab": {
          "base_uri": "https://localhost:8080/"
        },
        "id": "0DNkpVKBtLpy",
        "outputId": "9c841fad-dab5-48e8-a7c1-3a3624cd0bb7"
      },
      "execution_count": 47,
      "outputs": [
        {
          "output_type": "stream",
          "name": "stdout",
          "text": [
            "Eigenvalue(s): [15.  5.]\n",
            "Eigenvector(s) [[ 0.70710678 -0.70710678]\n",
            " [ 0.70710678  0.70710678]]\n"
          ]
        }
      ]
    },
    {
      "cell_type": "code",
      "source": [
        "from sympy import*\n",
        "A =Matrix([[2,0,0],[2,1,0],[1, -2, 0]])\n",
        "print(\"Matrix : {} \".format(A))\n",
        "   \n",
        "# Use sympy.diagonalize() method \n",
        "P, D = A.diagonalize()  \n",
        "      \n",
        "print(\"Diagonal of a matrix : {}\".format(D))"
      ],
      "metadata": {
        "colab": {
          "base_uri": "https://localhost:8080/"
        },
        "id": "JjwY8_-BHOcn",
        "outputId": "3a770528-07ba-4be0-d25e-bd8011bbc9a9"
      },
      "execution_count": 65,
      "outputs": [
        {
          "output_type": "stream",
          "name": "stdout",
          "text": [
            "Matrix : Matrix([[2, 0, 0], [2, 1, 0], [1, -2, 0]]) \n",
            "Diagonal of a matrix : Matrix([[0, 0, 0], [0, 1, 0], [0, 0, 2]])\n"
          ]
        }
      ]
    },
    {
      "cell_type": "markdown",
      "source": [
        "Section 1.3 Least of squares"
      ],
      "metadata": {
        "id": "CKPzvbq7tyIV"
      }
    },
    {
      "cell_type": "code",
      "source": [
        "import numpy as np\n",
        "import matplotlib.pyplot as plt\n",
        "\n",
        "plt.style.use('seaborn-poster')\n",
        "\n",
        "# generate x and y\n",
        "x = np.linspace(0, 1, 100)\n",
        "y = 5 + 5*x + x * np.random.random(len(x))\n",
        "\n",
        "# assemble matrix A\n",
        "A = np.vstack([x, np.ones(len(x))]).T\n",
        "\n",
        "# turn y into a column vector\n",
        "y = y[:, np.newaxis]\n",
        "\n",
        "# Direct least square regression\n",
        "alpha = np.linalg.lstsq(A, y, rcond=None)[0]\n",
        "print(\"alpha=\", alpha)\n",
        "\n",
        "\n",
        "# plot the results\n",
        "plt.figure(figsize = (10,8))\n",
        "plt.plot(x, y, 'b.')\n",
        "plt.plot(x, alpha[0]*x + alpha[1], 'r')\n",
        "plt.xlabel('x')\n",
        "plt.ylabel('y')\n",
        "plt.show()"
      ],
      "metadata": {
        "colab": {
          "base_uri": "https://localhost:8080/",
          "height": 552
        },
        "id": "_KPMz330t1gV",
        "outputId": "98d9b201-a43c-4950-a698-4c1fb55fc043"
      },
      "execution_count": 54,
      "outputs": [
        {
          "output_type": "stream",
          "name": "stdout",
          "text": [
            "alpha= [[5.43426992]\n",
            " [5.02073026]]\n"
          ]
        },
        {
          "output_type": "display_data",
          "data": {
            "image/png": "[encoded data removed]",
            "text/plain": [
              "<Figure size 720x576 with 1 Axes>"
            ]
          },
          "metadata": {
            "needs_background": "light"
          }
        }
      ]
    },
    {
      "cell_type": "markdown",
      "source": [
        "Section 1.4 SVD Singular value Decomposition"
      ],
      "metadata": {
        "id": "k27EixoWxV2R"
      }
    },
    {
      "cell_type": "code",
      "source": [
        "import numpy as np\n",
        " \n",
        "#Define Matrix\n",
        "A = np.array([[2,0,0],[2,1,0],[1, -2, 0]])\n",
        " \n",
        "#Performing SVD\n",
        "U, D, VT = np.linalg.svd(A)\n",
        " \n",
        "#Verify A with U D VT\n",
        "A_remake = (U @ np.diag(D) @ VT)\n",
        "print(A_remake)"
      ],
      "metadata": {
        "colab": {
          "base_uri": "https://localhost:8080/"
        },
        "id": "SG2nA6OMxVG2",
        "outputId": "c1d39cf4-b009-4970-8789-528d92ca2a78"
      },
      "execution_count": 50,
      "outputs": [
        {
          "output_type": "stream",
          "name": "stdout",
          "text": [
            "[[ 2.00000000e+00  3.70074342e-17  0.00000000e+00]\n",
            " [ 2.00000000e+00  1.00000000e+00  0.00000000e+00]\n",
            " [ 1.00000000e+00 -2.00000000e+00  0.00000000e+00]]\n"
          ]
        }
      ]
    }
  ]
}